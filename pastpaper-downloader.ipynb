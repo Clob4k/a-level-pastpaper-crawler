{
 "cells": [
  {
   "cell_type": "markdown",
   "id": "62da7f1e",
   "metadata": {},
   "source": [
    "# PASTPAPER DOWNLOADER"
   ]
  },
  {
   "cell_type": "markdown",
   "id": "28812392",
   "metadata": {},
   "source": [
    "1.前置需求"
   ]
  },
  {
   "cell_type": "code",
   "execution_count": 32,
   "id": "902250ab",
   "metadata": {},
   "outputs": [],
   "source": [
    "import requests\n",
    "import time\n",
    "import os\n",
    "import re"
   ]
  },
  {
   "cell_type": "markdown",
   "id": "74fbba16",
   "metadata": {},
   "source": [
    "2.函数定义"
   ]
  },
  {
   "cell_type": "code",
   "execution_count": 33,
   "id": "70c440cb",
   "metadata": {},
   "outputs": [],
   "source": [
    "# 爬取延迟设置\n",
    "def crawl_delay():\n",
    "    delay = 10\n",
    "    print('pause for crawl delay...({}s)'.format(delay))\n",
    "    time.sleep(delay)"
   ]
  },
  {
   "cell_type": "code",
   "execution_count": 34,
   "id": "07e30c83",
   "metadata": {},
   "outputs": [],
   "source": [
    "# 获取网站html\n",
    "def get_html(url):\n",
    "    try:\n",
    "        r = requests.get(url, timeout=30)\n",
    "        r.raise_for_status()\n",
    "        r.encoding = r.apparent_encoding\n",
    "        return r\n",
    "    except requests.HTTPError:\n",
    "        return None"
   ]
  },
  {
   "cell_type": "code",
   "execution_count": 35,
   "id": "e1479120",
   "metadata": {},
   "outputs": [],
   "source": [
    "# 获取目录下pdf文件名\n",
    "def get_pdf_name(url):\n",
    "    web = get_html(url)\n",
    "    web_text = web.text\n",
    "    pdf_list = re.findall(r'(9702.*?.pdf)', web_text)\n",
    "    pdf_set = set(pdf_list)\n",
    "    return pdf_set"
   ]
  },
  {
   "cell_type": "markdown",
   "id": "867123dc",
   "metadata": {},
   "source": [
    "3.参数设置"
   ]
  },
  {
   "cell_type": "code",
   "execution_count": null,
   "id": "0bf53263",
   "metadata": {},
   "outputs": [],
   "source": [
    "year = '2014'\n",
    "subject_code = '9702'\n",
    "trial_max = 5\n",
    "save_path = './{}/{}/'.format(subject_code, year)\n",
    "\n",
    "subject_dict = {\"9702\" : \"Physics\", \"9703\" : \"Chemistry\", \"9704\" : \"Biology\", \\\n",
    "                \"9705\" : \"Geography\", \"9706\" : \"History\", \"9708\" : \"Economics\",\\\n",
    "                \"9709\" : \"English\", \"9710\" : \"Chinese\", \"9711\" : \"Mathematics\",\\\n",
    "                \"9608\" : \"Computer%20Science%20(for%20final%20examination%20in%202021)\",\\\n",
    "                \"9618\" : \"Computer%20Science%20(for%20first%20examination%20in%202021)\"}\n",
    "\n",
    "subject_name = subject_dict[subject_code]\n",
    "subject = '{}%20({})'.format(subject_name,subject_code)\n",
    "url = \"https://papers.gceguide.com/A%20Levels/{}/{}/\".format(subject,year)\n",
    "print(\"target url: {}\".format(url))\n",
    "\n",
    "r = requests.get(url, timeout=30)\n",
    "if r.status_code != 200:\n",
    "    print('connection failed, double check the parameters')\n",
    "else:\n",
    "    print('successfully connected')\n"
   ]
  },
  {
   "cell_type": "markdown",
   "id": "8c736c28",
   "metadata": {},
   "source": [
    "4.主程序"
   ]
  },
  {
   "cell_type": "code",
   "execution_count": null,
   "id": "aa93d213",
   "metadata": {},
   "outputs": [],
   "source": [
    "pdf_set = get_pdf_name(url)\n",
    "count = 1\n",
    "trial_max = 5\n",
    "for pdf in pdf_set:\n",
    "    trial = 1\n",
    "    print(\"=====================\")\n",
    "    print(pdf)\n",
    "    print(count, \"/\", len(pdf_set))\n",
    "    print(\"=====================\")\n",
    "    pdf_url = url + pdf\n",
    "    pdf_name = save_path + pdf\n",
    "    if os.path.exists(save_path) == False:\n",
    "        os.makedirs(save_path)\n",
    "    if os.path.exists(pdf_name):\n",
    "        print(\"The file has already existed\")\n",
    "    else:\n",
    "        print(\"Downloading...\")\n",
    "        pdf_content = get_html(pdf_url)\n",
    "        while pdf_content is None:\n",
    "            crawl_delay()\n",
    "            print(\"Download failed. Retrying...{}/{}\".format(trial, trial_max))\n",
    "            pdf_content = get_html(pdf_url)\n",
    "            if trial == trial_max:\n",
    "                print(\"Download failed. Automatically switch to next item.\")\n",
    "                continue\n",
    "            trial += 1\n",
    "        pdf_content = pdf_content.content\n",
    "        with open(pdf_name, \"wb\") as f:\n",
    "            f.write(pdf_content)\n",
    "        print(\"successfully downloaded\")\n",
    "        crawl_delay()\n",
    "    count += 1\n",
    "print(\"Download completed {}/{}\".format(count-1, len(pdf_set)))"
   ]
  }
 ],
 "metadata": {
  "kernelspec": {
   "display_name": "Python 3 (ipykernel)",
   "language": "python",
   "name": "python3"
  },
  "language_info": {
   "codemirror_mode": {
    "name": "ipython",
    "version": 3
   },
   "file_extension": ".py",
   "mimetype": "text/x-python",
   "name": "python",
   "nbconvert_exporter": "python",
   "pygments_lexer": "ipython3",
   "version": "3.10.0"
  }
 },
 "nbformat": 4,
 "nbformat_minor": 5
}
